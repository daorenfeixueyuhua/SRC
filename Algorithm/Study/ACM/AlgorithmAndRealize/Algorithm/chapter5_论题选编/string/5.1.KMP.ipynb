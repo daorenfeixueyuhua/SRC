{
 "cells": [
  {
   "cell_type": "markdown",
   "metadata": {},
   "source": [
    "# 5.1.1 KMP\n",
    "**【任务】**\n",
    "\n",
    "实现一种算法，在线性复杂度内求出一个串在另一个串的所有匹配位置。\n",
    "\n",
    "**【接口】**\n",
    "\n",
    "**【代码】**"
   ]
  },
  {
   "cell_type": "code",
   "execution_count": 2,
   "metadata": {},
   "outputs": [
    {
     "name": "stdout",
     "output_type": "stream",
     "text": [
      "[]\n"
     ]
    }
   ],
   "source": [
    "def find_substring(pattern:str, text:str)->list:\n",
    "    n = len(pattern)\n",
    "    next = [0 for _ in [0]*(n+1)]\n",
    "    for i in range(n):\n",
    "        j = i\n",
    "        while j > 0:\n",
    "            j = next[j]\n",
    "            if pattern[j] == pattern[i]:\n",
    "                next[i+1] = j+1\n",
    "                break\n",
    "    positions = []\n",
    "    m = len(text)\n",
    "    j = 0\n",
    "    for i in range(m):\n",
    "        if j < n and text[i] == pattern[j]:\n",
    "            j += 1\n",
    "        else:\n",
    "            while j > 0:\n",
    "                j = next[j]\n",
    "                if text[i] == pattern[j]:\n",
    "                    j += 1\n",
    "                    break\n",
    "        if j == n:\n",
    "            positions.append(i - n +1)\n",
    "            \n",
    "    return positions\n",
    "\n",
    "print(find_substring('hello', 'el'))"
   ]
  }
 ],
 "metadata": {
  "kernelspec": {
   "display_name": "Python 3",
   "language": "python",
   "name": "python3"
  },
  "language_info": {
   "codemirror_mode": {
    "name": "ipython",
    "version": 3
   },
   "file_extension": ".py",
   "mimetype": "text/x-python",
   "name": "python",
   "nbconvert_exporter": "python",
   "pygments_lexer": "ipython3",
   "version": "3.7.5"
  }
 },
 "nbformat": 4,
 "nbformat_minor": 4
}
