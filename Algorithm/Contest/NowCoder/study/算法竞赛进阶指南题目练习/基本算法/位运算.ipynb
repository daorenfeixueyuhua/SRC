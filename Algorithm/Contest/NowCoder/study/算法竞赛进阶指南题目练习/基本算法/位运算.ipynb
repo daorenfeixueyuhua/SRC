{
 "cells": [
  {
   "cell_type": "markdown",
   "metadata": {},
   "source": [
    "# 最短Hamilton路径 "
   ]
  },
  {
   "cell_type": "code",
   "execution_count": 5,
   "metadata": {},
   "outputs": [
    {
     "name": "stdout",
     "output_type": "stream",
     "text": [
      "4\n",
      "0 2 1 3\n",
      "2 0 2 1\n",
      "1 2 0 1\n",
      "3 1 1 0\n",
      "[[0, 2, 1, 3], [2, 0, 2, 1], [1, 2, 0, 1], [3, 1, 1, 0]]\n"
     ]
    }
   ],
   "source": [
    "def R():return map(int, input().split())\n",
    "\n",
    "n, = R()\n",
    "G = [[0 for _ in [0]*n] for _ in [0]*n]\n",
    "for i in range(n):\n",
    "    G[i] = list(R())\n",
    "# print(G)\n"
   ]
  }
 ],
 "metadata": {
  "kernelspec": {
   "display_name": "Python 3",
   "language": "python",
   "name": "python3"
  },
  "language_info": {
   "codemirror_mode": {
    "name": "ipython",
    "version": 3
   },
   "file_extension": ".py",
   "mimetype": "text/x-python",
   "name": "python",
   "nbconvert_exporter": "python",
   "pygments_lexer": "ipython3",
   "version": "3.7.5"
  }
 },
 "nbformat": 4,
 "nbformat_minor": 4
}
