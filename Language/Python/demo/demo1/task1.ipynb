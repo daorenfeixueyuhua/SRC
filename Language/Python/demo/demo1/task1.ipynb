{
 "cells": [
  {
   "cell_type": "code",
   "execution_count": null,
   "metadata": {},
   "outputs": [],
   "source": [
    "import matplotlib.pyplotlo as plt\n",
    "\n",
    "plt."
   ]
  }
 ],
 "metadata": {
  "kernelspec": {
   "display_name": "PyCharm (opencv_study)",
   "language": "python",
   "name": "pycharm-e427a87f"
  },
  "language_info": {
   "codemirror_mode": {
    "name": "ipython",
    "version": 3
   },
   "file_extension": ".py",
   "mimetype": "text/x-python",
   "name": "python",
   "nbconvert_exporter": "python",
   "pygments_lexer": "ipython3",
   "version": "3.7.5"
  }
 },
 "nbformat": 4,
 "nbformat_minor": 4
}
