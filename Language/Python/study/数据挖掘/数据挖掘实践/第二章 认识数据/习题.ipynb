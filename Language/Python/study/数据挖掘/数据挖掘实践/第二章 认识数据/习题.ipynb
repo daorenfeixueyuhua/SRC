{
 "cells": [
  {
   "cell_type": "code",
   "execution_count": 1,
   "metadata": {},
   "outputs": [],
   "source": [
    "import numpy as np\n",
    "import pandas as pd\n",
    "import matplotlib.pyplot as plt\n",
    "import math"
   ]
  },
  {
   "cell_type": "markdown",
   "metadata": {},
   "source": [
    "# 习题"
   ]
  },
  {
   "cell_type": "code",
   "execution_count": 22,
   "metadata": {},
   "outputs": [
    {
     "name": "stdout",
     "output_type": "stream",
     "text": [
      "均值为 29.962962962962962\n",
      "中位数为 25\n",
      "众数为 25\n",
      "中列数为 41\n",
      "五数概括\n",
      "最小观测值 13 Q1 20 中位数 25 Q3 35 最大观测值 70\n",
      "IQR 15\n"
     ]
    }
   ],
   "source": [
    "age = (13,15,16,16,19,20,20,21,22,22,25,25,25,25,30,33,33,35,35,35,35,36,40,45,46,52,70)\n",
    "avg = sum(age)/len(age)\n",
    "print('均值为', avg)\n",
    "if len(age)&1:\n",
    "    print('中位数为', age[len(age)//2])\n",
    "else:\n",
    "    print('中位数为', (age[len(age)//2] + age[len(age)//2+1])//2)\n",
    "\n",
    "cnt = [0 for _ in [0]* (max(age)+1)]\n",
    "for i in age:\n",
    "    cnt[i]+=1\n",
    "max_index = 0\n",
    "i = 0\n",
    "for i in range(len(cnt)):\n",
    "    if max_index < cnt[i]:\n",
    "        max_index = cnt[i]\n",
    "        mm = i\n",
    "print('众数为', mm)\n",
    "\n",
    "print('中列数为', (max(age) + min(age))//2)\n",
    "\n",
    "print('五数概括')\n",
    "Mininum = min(age)\n",
    "q = math.ceil(len(age)/4)\n",
    "Q1 = age[q-1]\n",
    "Medinan = age[2*q-1]\n",
    "Q3 = age[3*q-1]\n",
    "Maximum = max(age)\n",
    "print('最小观测值', Mininum, 'Q1', Q1, '中位数', Medinan, 'Q3', Q3, '最大观测值', Maximum)\n",
    "IQR = Q3 - Q1\n",
    "print('IQR', IQR)"
   ]
  },
  {
   "cell_type": "code",
   "execution_count": 26,
   "metadata": {},
   "outputs": [
    {
     "name": "stdout",
     "output_type": "stream",
     "text": [
      "      age  frequency\n",
      "0     1~5        300\n",
      "1    6~15        450\n",
      "2   16~20        300\n",
      "3   21~50       1500\n",
      "4   51~80        700\n",
      "5  81~100         44\n"
     ]
    }
   ],
   "source": [
    "data = pd.DataFrame()\n",
    "data['age'] = ['1~5', '6~15','16~20', '21~50', '51~80', '81~100']\n",
    "data['frequency'] = [300, 450, 300, 1500, 700, 44]\n",
    "\n",
    "\n",
    "\n",
    "print(data)"
   ]
  },
  {
   "cell_type": "code",
   "execution_count": 5,
   "metadata": {},
   "outputs": [
    {
     "name": "stdout",
     "output_type": "stream",
     "text": [
      "    age   fat\n",
      "0    23   9.5\n",
      "1    23  26.5\n",
      "2    27   7.8\n",
      "3    27  17.8\n",
      "4    39  31.4\n",
      "5    41  25.9\n",
      "6    47  27.4\n",
      "7    49  27.2\n",
      "8    50  31.2\n",
      "9    52  34.6\n",
      "10   54  42.5\n",
      "11   54  28.8\n",
      "12   56  33.4\n",
      "13   57  30.2\n",
      "14   57  34.1\n",
      "15   58  32.9\n",
      "16   60  41.2\n",
      "17   61  35.7\n",
      "age均值：  46.388888888888886\n",
      "age中位数 51.0\n",
      "age标准差： 12.798172130290467\n",
      "fat均值： 28.783333333333328\n",
      "fat中位数:  32.9\n",
      "fat标准差： 8.99365517091541\n"
     ]
    },
    {
     "data": {
      "image/png": "[encoded data removed]",
      "text/plain": [
       "<Figure size 432x288 with 1 Axes>"
      ]
     },
     "metadata": {
      "needs_background": "light"
     },
     "output_type": "display_data"
    }
   ],
   "source": [
    "data = pd.DataFrame()\n",
    "data['age'] = [23, 23, 27,27, 39, 41, 47, 49, 50, 52, 54, 54, 56, 57, 57, 58, 60, 61]\n",
    "data['fat'] = [9.5, 26.5, 7.8, 17.8, 31.4, 25.9, 27.4, 27.2, 31.2,\n",
    "              34.6, 42.5, 28.8, 33.4, 30.2, 34.1, 32.9, 41.2, 35.7]\n",
    "\n",
    "age = data['age']\n",
    "fat = data['fat']\n",
    "print(data)\n",
    "# print(age)\n",
    "# print(fat)\n",
    "\n",
    "avg_age = sum(age)/len(age)\n",
    "print('age均值： ', avg_age)\n",
    "print('age中位数', (age[8] + age[9])/2)\n",
    "k1 = 1/18*sum(i**2 for i in age) - avg_age**2\n",
    "kk1 = math.sqrt(k1)\n",
    "print('age标准差：', kk1)\n",
    "\n",
    "avg_fat = sum(fat)/len(fat)\n",
    "k2 = 1/18*sum(i**2 for i in fat) - avg_fat **2\n",
    "kk2 = math.sqrt(k2)\n",
    "print('fat均值：', avg_fat)\n",
    "print('fat中位数: ', (fat[8] + fat[9])/2)\n",
    "print('fat标准差：', kk2)\n",
    "\n",
    "# plt.boxplot(age, fat)\n",
    "plt.plot(age, fat)\n",
    "plt.xlabel('age')\n",
    "plt.axis([0, 100, 0.0, 50.0])\n",
    "plt.ylabel('fat')\n",
    "plt.show()"
   ]
  },
  {
   "cell_type": "code",
   "execution_count": 50,
   "metadata": {},
   "outputs": [
    {
     "ename": "TypeError",
     "evalue": "sqrt() takes exactly one argument (2 given)",
     "output_type": "error",
     "traceback": [
      "\u001b[1;31m---------------------------------------------------------------------------\u001b[0m",
      "\u001b[1;31mTypeError\u001b[0m                                 Traceback (most recent call last)",
      "\u001b[1;32m<ipython-input-50-57f3403f12b7>\u001b[0m in \u001b[0;36m<module>\u001b[1;34m\u001b[0m\n\u001b[0;32m      5\u001b[0m     \u001b[0md\u001b[0m \u001b[1;33m=\u001b[0m \u001b[0mmath\u001b[0m\u001b[1;33m.\u001b[0m\u001b[0msqrt\u001b[0m\u001b[1;33m(\u001b[0m\u001b[0msum\u001b[0m\u001b[1;33m(\u001b[0m\u001b[0mmath\u001b[0m\u001b[1;33m.\u001b[0m\u001b[0mpow\u001b[0m\u001b[1;33m(\u001b[0m\u001b[0mmath\u001b[0m\u001b[1;33m.\u001b[0m\u001b[0mfabs\u001b[0m\u001b[1;33m(\u001b[0m\u001b[0mx\u001b[0m\u001b[1;33m[\u001b[0m\u001b[0mi\u001b[0m\u001b[1;33m]\u001b[0m \u001b[1;33m-\u001b[0m \u001b[0my\u001b[0m\u001b[1;33m[\u001b[0m\u001b[0mi\u001b[0m\u001b[1;33m]\u001b[0m\u001b[1;33m)\u001b[0m\u001b[1;33m,\u001b[0m\u001b[0mq\u001b[0m\u001b[1;33m)\u001b[0m \u001b[1;32mfor\u001b[0m \u001b[0mi\u001b[0m \u001b[1;32min\u001b[0m \u001b[0mrange\u001b[0m\u001b[1;33m(\u001b[0m\u001b[0mlen\u001b[0m\u001b[1;33m(\u001b[0m\u001b[0mx\u001b[0m\u001b[1;33m)\u001b[0m\u001b[1;33m)\u001b[0m\u001b[1;33m)\u001b[0m\u001b[1;33m,\u001b[0m \u001b[0mq\u001b[0m\u001b[1;33m)\u001b[0m\u001b[1;33m\u001b[0m\u001b[1;33m\u001b[0m\u001b[0m\n\u001b[0;32m      6\u001b[0m \u001b[1;33m\u001b[0m\u001b[0m\n\u001b[1;32m----> 7\u001b[1;33m \u001b[0mprint\u001b[0m\u001b[1;33m(\u001b[0m\u001b[1;34m'欧几里得距离:'\u001b[0m\u001b[1;33m,\u001b[0m \u001b[0mminkD\u001b[0m\u001b[1;33m(\u001b[0m\u001b[1;36m2\u001b[0m\u001b[1;33m,\u001b[0m \u001b[0mt1\u001b[0m\u001b[1;33m,\u001b[0m \u001b[0mt2\u001b[0m\u001b[1;33m)\u001b[0m\u001b[1;33m)\u001b[0m\u001b[1;33m\u001b[0m\u001b[1;33m\u001b[0m\u001b[0m\n\u001b[0m",
      "\u001b[1;32m<ipython-input-50-57f3403f12b7>\u001b[0m in \u001b[0;36mminkD\u001b[1;34m(q, x, y)\u001b[0m\n\u001b[0;32m      3\u001b[0m \u001b[1;33m\u001b[0m\u001b[0m\n\u001b[0;32m      4\u001b[0m \u001b[1;32mdef\u001b[0m \u001b[0mminkD\u001b[0m\u001b[1;33m(\u001b[0m\u001b[0mq\u001b[0m\u001b[1;33m,\u001b[0m \u001b[0mx\u001b[0m\u001b[1;33m:\u001b[0m\u001b[0mlist\u001b[0m\u001b[1;33m,\u001b[0m \u001b[0my\u001b[0m\u001b[1;33m:\u001b[0m\u001b[0mlist\u001b[0m\u001b[1;33m)\u001b[0m\u001b[1;33m:\u001b[0m\u001b[1;33m\u001b[0m\u001b[1;33m\u001b[0m\u001b[0m\n\u001b[1;32m----> 5\u001b[1;33m     \u001b[0md\u001b[0m \u001b[1;33m=\u001b[0m \u001b[0mmath\u001b[0m\u001b[1;33m.\u001b[0m\u001b[0msqrt\u001b[0m\u001b[1;33m(\u001b[0m\u001b[0msum\u001b[0m\u001b[1;33m(\u001b[0m\u001b[0mmath\u001b[0m\u001b[1;33m.\u001b[0m\u001b[0mpow\u001b[0m\u001b[1;33m(\u001b[0m\u001b[0mmath\u001b[0m\u001b[1;33m.\u001b[0m\u001b[0mfabs\u001b[0m\u001b[1;33m(\u001b[0m\u001b[0mx\u001b[0m\u001b[1;33m[\u001b[0m\u001b[0mi\u001b[0m\u001b[1;33m]\u001b[0m \u001b[1;33m-\u001b[0m \u001b[0my\u001b[0m\u001b[1;33m[\u001b[0m\u001b[0mi\u001b[0m\u001b[1;33m]\u001b[0m\u001b[1;33m)\u001b[0m\u001b[1;33m,\u001b[0m\u001b[0mq\u001b[0m\u001b[1;33m)\u001b[0m \u001b[1;32mfor\u001b[0m \u001b[0mi\u001b[0m \u001b[1;32min\u001b[0m \u001b[0mrange\u001b[0m\u001b[1;33m(\u001b[0m\u001b[0mlen\u001b[0m\u001b[1;33m(\u001b[0m\u001b[0mx\u001b[0m\u001b[1;33m)\u001b[0m\u001b[1;33m)\u001b[0m\u001b[1;33m)\u001b[0m\u001b[1;33m,\u001b[0m \u001b[0mq\u001b[0m\u001b[1;33m)\u001b[0m\u001b[1;33m\u001b[0m\u001b[1;33m\u001b[0m\u001b[0m\n\u001b[0m\u001b[0;32m      6\u001b[0m \u001b[1;33m\u001b[0m\u001b[0m\n\u001b[0;32m      7\u001b[0m \u001b[0mprint\u001b[0m\u001b[1;33m(\u001b[0m\u001b[1;34m'欧几里得距离:'\u001b[0m\u001b[1;33m,\u001b[0m \u001b[0mminkD\u001b[0m\u001b[1;33m(\u001b[0m\u001b[1;36m2\u001b[0m\u001b[1;33m,\u001b[0m \u001b[0mt1\u001b[0m\u001b[1;33m,\u001b[0m \u001b[0mt2\u001b[0m\u001b[1;33m)\u001b[0m\u001b[1;33m)\u001b[0m\u001b[1;33m\u001b[0m\u001b[1;33m\u001b[0m\u001b[0m\n",
      "\u001b[1;31mTypeError\u001b[0m: sqrt() takes exactly one argument (2 given)"
     ]
    }
   ],
   "source": [
    "t1 = [22, 1, 42, 10]\n",
    "t2 = [20, 0, 36, 8]\n",
    "\n",
    "def minkD(q, x:list, y:list):\n",
    "    d = math.sqrt(sum(math.pow(math.fabs(x[i] - y[i]),q) for i in range(len(x))), q)\n",
    "    \n",
    "print('欧几里得距离:', minkD(2, t1, t2))"
   ]
  }
 ],
 "metadata": {
  "kernelspec": {
   "display_name": "Python 3",
   "language": "python",
   "name": "python3"
  },
  "language_info": {
   "codemirror_mode": {
    "name": "ipython",
    "version": 3
   },
   "file_extension": ".py",
   "mimetype": "text/x-python",
   "name": "python",
   "nbconvert_exporter": "python",
   "pygments_lexer": "ipython3",
   "version": "3.7.5"
  }
 },
 "nbformat": 4,
 "nbformat_minor": 4
}
