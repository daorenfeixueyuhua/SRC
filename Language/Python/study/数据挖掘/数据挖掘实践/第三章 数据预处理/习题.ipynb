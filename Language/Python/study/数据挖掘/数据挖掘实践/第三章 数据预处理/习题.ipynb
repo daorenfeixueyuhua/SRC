{
 "cells": [
  {
   "cell_type": "code",
   "execution_count": 1,
   "metadata": {},
   "outputs": [],
   "source": [
    "import numpy as np\n",
    "import pandas as pd\n",
    "import matplotlib.pyplot as plt\n",
    "import math"
   ]
  },
  {
   "cell_type": "code",
   "execution_count": 7,
   "metadata": {},
   "outputs": [
    {
     "name": "stdout",
     "output_type": "stream",
     "text": [
      "箱子宽度 9\n",
      "分箱数据\n",
      "箱子1 0    13\n",
      "1    15\n",
      "2    16\n",
      "3    16\n",
      "4    19\n",
      "5    20\n",
      "6    20\n",
      "7    21\n",
      "8    22\n",
      "Name: age, dtype: int64\n",
      "箱子2 9     22\n",
      "10    25\n",
      "11    25\n",
      "12    25\n",
      "13    25\n",
      "14    30\n",
      "15    33\n",
      "16    33\n",
      "17    35\n",
      "Name: age, dtype: int64\n",
      "箱子3 18    35\n",
      "19    35\n",
      "20    35\n",
      "21    36\n",
      "22    40\n",
      "23    45\n",
      "24    46\n",
      "25    52\n",
      "26    70\n",
      "Name: age, dtype: int64\n",
      "箱子1均值 18.0\n",
      "箱子2均值 28.11111111111111\n",
      "箱子3均值 43.77777777777778\n",
      "均值光滑后\n",
      "箱子1 [18.0, 18.0, 18.0, 18.0, 18.0, 18.0, 18.0, 18.0, 18.0]\n",
      "箱子2 [28.11111111111111, 28.11111111111111, 28.11111111111111, 28.11111111111111, 28.11111111111111, 28.11111111111111, 28.11111111111111, 28.11111111111111, 28.11111111111111]\n",
      "箱子3 [43.77777777777778, 43.77777777777778, 43.77777777777778, 43.77777777777778, 43.77777777777778, 43.77777777777778, 43.77777777777778, 43.77777777777778, 43.77777777777778]\n"
     ]
    }
   ],
   "source": [
    "data = pd.DataFrame()\n",
    "data['age'] = [13,15,16,16,19,20,20,21,22,22,25,25,25,25,30,33,33,35,35,35,35,36,40,45,46,52,70]\n",
    "age = data['age']\n",
    "\n",
    "weigth = 3\n",
    "length = math.ceil(len(age)/weigth)\n",
    "print('箱子宽度', length)\n",
    "box1 = age[:length:]\n",
    "box2 = age[length:2*length:]\n",
    "box3 = age[2*length::]\n",
    "\n",
    "print('分箱数据')\n",
    "print('箱子1', box1)\n",
    "print('箱子2', box2)\n",
    "print('箱子3', box3)\n",
    "\n",
    "\n",
    "avg_box1 = sum(box1)/len(box1)\n",
    "avg_box2 = sum(box2)/len(box2)\n",
    "avg_box3 = sum(box3)/len(box3)\n",
    "print('箱子1均值', avg_box1)\n",
    "print('箱子2均值', avg_box2)\n",
    "print('箱子3均值', avg_box3)\n",
    "\n",
    "box11 = [avg_box1 for _ in [0]* len(box1)]\n",
    "box22 = [avg_box2 for _ in [0]* len(box2)]\n",
    "box33 = [avg_box3 for _ in [0]* len(box3)]\n",
    "\n",
    "print('均值光滑后')\n",
    "print('箱子1', box11)\n",
    "print('箱子2', box22)\n",
    "print('箱子3', box33)\n",
    "# print(data)"
   ]
  },
  {
   "cell_type": "markdown",
   "metadata": {},
   "source": [
    "#### 下列规范化方法的值域是什么\n",
    "- 最小-最大规范化\n",
    "\n",
    "    [new_min, new_max]\n",
    "\n",
    "- z分数规范化\n",
    "\n",
    "    \n",
    "- z分数规范化，使用均值绝对偏差\n",
    "- 小数定标规范化\n"
   ]
  },
  {
   "cell_type": "code",
   "execution_count": 30,
   "metadata": {},
   "outputs": [
    {
     "name": "stdout",
     "output_type": "stream",
     "text": [
      "0     200\n",
      "1     300\n",
      "2     400\n",
      "3     600\n",
      "4    1000\n",
      "Name: data, dtype: int64\n",
      "max 1000 min 200\n",
      "最大最小规范化后的数据：[0.0, 0.125, 0.25, 0.5, 1.0]\n",
      "均值：500.0；标准差：329999.6212119038\n",
      "z分数规范化后的数据: [-0.0009090919525854848, -0.0006060613017236566, -0.0003030306508618283, 0.0003030306508618283, 0.0015151532543091412]\n",
      "z分数规范化，绝对均值偏差：[-1.25, -0.8333333333333334, -0.4166666666666667, 0.4166666666666667, 2.0833333333333335]\n",
      "4\n",
      "小数定标规范化: [0.02, 0.03, 0.04, 0.06, 0.1]\n"
     ]
    }
   ],
   "source": [
    "data = pd.DataFrame()\n",
    "data['data'] = [200, 300, 400, 600, 1000]\n",
    "# print(data['data'])\n",
    "src = data['data']\n",
    "print(src)\n",
    "# 最大最小规范化\n",
    "max_value = 1000\n",
    "min_value = 200\n",
    "new_max = 1\n",
    "new_min = 0\n",
    "print('max {0} min {1}'.format(max_value, min_value))\n",
    "new_data = []\n",
    "for i in range(len(src)):\n",
    "    vi = (src[i]-min_value)/(max_value - min_value)*(new_max - new_min) + new_min\n",
    "    new_data.append(vi)\n",
    "print('最大最小规范化后的数据：{0}'.format(new_data))\n",
    "\n",
    "# z分数规范化\n",
    "avg_value = sum(src)/len(src)\n",
    "sigma = math.sqrt((1/len(src)*sum(i**2 for i in src))**2-avg_value**2)\n",
    "print('均值：{0}；标准差：{1}'.format(avg_value, sigma))\n",
    "new_data.clear()\n",
    "for i in range(len(src)):\n",
    "    vi = (src[i] -avg_value)/sigma\n",
    "    new_data.append(vi)\n",
    "print('z分数规范化后的数据: {0}'.format(new_data))\n",
    "# z分数规范化，均值绝对偏差\n",
    "sA = 1/len(src)*sum(math.fabs(i - avg_value) for i in src)\n",
    "new_data.clear()\n",
    "for i in range(len(src)):\n",
    "    vi = (src[i] -avg_value)/sA\n",
    "    new_data.append(vi)\n",
    "print('z分数规范化，绝对均值偏差：{0}'.format(new_data))\n",
    "# 小数定标规范化\n",
    "\n",
    "abs_max = 1000\n",
    "j = 0\n",
    "while abs_max >= 1:\n",
    "    j+=1\n",
    "    abs_max /= 10\n",
    "    \n",
    "print(j)\n",
    "\n",
    "new_data.clear()\n",
    "for i in range(len(src)):\n",
    "    vi = src[i]/math.pow(10, j)\n",
    "    new_data.append(vi)\n",
    "print('小数定标规范化: {0}'.format(new_data))"
   ]
  },
  {
   "cell_type": "code",
   "execution_count": 32,
   "metadata": {},
   "outputs": [
    {
     "name": "stdout",
     "output_type": "stream",
     "text": [
      "最大最小规范化 0.0, z分数规范化 0.0, 小数定标规范化 0.35\n"
     ]
    }
   ],
   "source": [
    "data = 35\n",
    "data1 = 0.0\n",
    "data2 = 0.0\n",
    "data3 = 0.35\n",
    "print('最大最小规范化 {0}, z分数规范化 {1}, 小数定标规范化 {2}'.format(data1, data2, data3))"
   ]
  },
  {
   "cell_type": "code",
   "execution_count": 40,
   "metadata": {},
   "outputs": [
    {
     "name": "stdout",
     "output_type": "stream",
     "text": [
      "age 均值: 46.388888888888886 标准差 2315.257541069995\n",
      "fat 均值: 28.783333333333328 标准差 908.9104707063109\n",
      "z分数规范后的数据\n",
      "age: [-0.010102067901301262, -0.010102067901301262, -0.008374398331482518, -0.008374398331482518, -0.0031913896220262883, -0.002327554837116917, 0.0002639495176111983, 0.00112778430252057, 0.0015597016949752559, 0.0024235364798846273, 0.003287371264793999, 0.003287371264793999, 0.004151206049703371, 0.004583123442158056, 0.004583123442158056, 0.005015040834612743, 0.005878875619522115, 0.0063107930119768]\n",
      "fat: [-0.02121587764122502, -0.0025121652868174776, -0.02308624887666577, -0.012084065138778983, 0.0028789047447470473, -0.0031722963110906864, -0.001521968750407668, -0.001742012425165403, 0.0026588610699893123, 0.006399603540870823, 0.015091328693801384, 1.8336972896484758e-05, 0.0050793414923244054, 0.0015586426962006337, 0.005849494353976484, 0.004529232305430066, 0.013661044807876105, 0.0076098437520383715]\n"
     ]
    }
   ],
   "source": [
    "data = pd.DataFrame()\n",
    "data['age'] = [23, 23, 27,27, 39, 41, 47, 49, 50, 52, 54, 54, 56, 57, 57, 58, 60, 61]\n",
    "data['fat'] = [9.5, 26.5, 7.8, 17.8, 31.4, 25.9, 27.4, 27.2, 31.2,\n",
    "              34.6, 42.5, 28.8, 33.4, 30.2, 34.1, 32.9, 41.2, 35.7]\n",
    "\n",
    "age = data['age']\n",
    "fat = data['fat']\n",
    "# print(data)\n",
    "# z分数规范化\n",
    "\n",
    "length_age = len(age)\n",
    "length_fat = len(fat)\n",
    "avg_age = sum(age)/length_age\n",
    "avg_fat = sum(fat)/length_fat\n",
    "sigma_age = math.sqrt((1/length_age*sum(i**2 for i in age))**2-avg_age**2)\n",
    "sigma_fat = math.sqrt((1/length_fat*sum(i**2 for i in fat))**2-avg_fat**2)\n",
    "print('age 均值: {0} 标准差 {1}'.format(avg_age, sigma_age))\n",
    "print('fat 均值: {0} 标准差 {1}'.format(avg_fat, sigma_fat))\n",
    "\n",
    "new_age = []\n",
    "new_fat = []\n",
    "for i in age:\n",
    "    vi = (i-avg_age)/sigma_age\n",
    "    new_age.append(vi)\n",
    "for i in fat:\n",
    "    vi = (i- avg_fat)/sigma_fat\n",
    "    new_fat.append(vi)\n",
    "print('z分数规范后的数据')\n",
    "print('age: {}'.format(new_age))\n",
    "print('fat: {}'.format(new_fat))\n",
    "    "
   ]
  },
  {
   "cell_type": "code",
   "execution_count": 47,
   "metadata": {},
   "outputs": [
    {
     "name": "stdout",
     "output_type": "stream",
     "text": [
      "原始箱子长度 12\n",
      "等深分箱: [[5, 10, 11, 13], [15, 35, 50, 55], [72, 92, 204, 215]]\n",
      "等频分箱: [[5, 10, 11, 13], [15, 35, 50, 55], [72, 92, 204, 215]]\n"
     ]
    }
   ],
   "source": [
    "box = [5, 10, 11, 13, 15, 35, 50, 55, 72, 92, 204, 215]\n",
    "weigth = 3\n",
    "size_box = len(box)\n",
    "print('原始箱子长度 {}'.format(size_box))\n",
    "box1 = [box[:4:], box[4:8:], box[8::]]\n",
    "print('等深分箱: {}'.format(box1))\n",
    "box2 = [box[:4:], box[4:8:], box[8::]]\n",
    "print('等频分箱: {}'.format(box1))\n"
   ]
  },
  {
   "cell_type": "code",
   "execution_count": 109,
   "metadata": {},
   "outputs": [
    {
     "name": "stdout",
     "output_type": "stream",
     "text": [
      "[{'cnt': 0, 'min': 0, 'max': 10}, {'cnt': 7, 'min': 10, 'max': 20}, {'cnt': 8, 'min': 20, 'max': 30}, {'cnt': 8, 'min': 30, 'max': 40}, {'cnt': 2, 'min': 40, 'max': 50}, {'cnt': 1, 'min': 50, 'max': 60}, {'cnt': 1, 'min': 60, 'max': 70}]\n"
     ]
    },
    {
     "data": {
      "image/png": "[encoded data removed]",
      "text/plain": [
       "<Figure size 432x288 with 1 Axes>"
      ]
     },
     "metadata": {
      "needs_background": "light"
     },
     "output_type": "display_data"
    },
    {
     "data": {
      "image/png": "[encoded data removed]",
      "text/plain": [
       "<Figure size 432x288 with 1 Axes>"
      ]
     },
     "metadata": {
      "needs_background": "light"
     },
     "output_type": "display_data"
    }
   ],
   "source": [
    "data = pd.DataFrame()\n",
    "data['age'] = [13,15,16,16,19,20,20,21,22,22,25,25,25,25,30,33,33,35,35,35,35,36,40,45,46,52,70]\n",
    "age = data['age']\n",
    "max_value = 10\n",
    "cnt1 = [0 for _ in range(80)]\n",
    "for i in age:\n",
    "    cnt1[i] += 1\n",
    "    \n",
    "cnt2 = [{'cnt': 0,'min':0, 'max':0} for _ in [0]*7]\n",
    "for i in range(7):\n",
    "#     cnt[i['cnt'] = 1\n",
    "    cnt2[i]['max'] = i*10+10\n",
    "    cnt2[i]['min'] = i*10\n",
    "for i in age:\n",
    "    for c in cnt2:\n",
    "        if c['min'] <= i and i <= c['max']:\n",
    "            c['cnt'] += 1\n",
    "            break\n",
    "# plt.subplot(211)\n",
    "plt.figure(1)\n",
    "plt.bar(range(0, 80), cnt1)\n",
    "plt.xlabel('age')\n",
    "plt.ylabel('cnt')\n",
    "plt.title('xxxxxx')\n",
    "\n",
    "\n",
    "plt.figure(2)\n",
    "# plt.subplot(212)\n",
    "print(cnt2)\n",
    "x = ['{0}~{1}'.format(c['min'], c['max']) for c in cnt2]\n",
    "y = [c['cnt'] for c in cnt2]\n",
    "# print(x)\n",
    "# print(y)\n",
    "plt.bar(x, y)\n",
    "plt.xlabel('age')\n",
    "plt.ylabel('cnt')\n",
    "plt.show()\n",
    "\n"
   ]
  },
  {
   "cell_type": "code",
   "execution_count": null,
   "metadata": {},
   "outputs": [],
   "source": [
    "\n"
   ]
  }
 ],
 "metadata": {
  "kernelspec": {
   "display_name": "Python 3",
   "language": "python",
   "name": "python3"
  },
  "language_info": {
   "codemirror_mode": {
    "name": "ipython",
    "version": 3
   },
   "file_extension": ".py",
   "mimetype": "text/x-python",
   "name": "python",
   "nbconvert_exporter": "python",
   "pygments_lexer": "ipython3",
   "version": "3.7.5"
  }
 },
 "nbformat": 4,
 "nbformat_minor": 4
}
