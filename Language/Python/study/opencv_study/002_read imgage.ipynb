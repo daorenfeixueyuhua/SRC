{
 "cells": [
  {
   "cell_type": "code",
   "execution_count": 4,
   "metadata": {},
   "outputs": [],
   "source": [
    "import sys\n",
    "import cv2 as cv\n",
    "\n",
    "img = cv.imread(cv.samples.findFile('./resources/1.jpg'))\n",
    "\n",
    "if img is None:\n",
    "    sys.exit('img open fail')\n",
    "cv.imshow('0a1eab755cca04ca01de9138f3c313e1ef277be4', img)\n",
    "\n",
    "k = cv.waitKey(0)\n",
    "\n",
    "if k == ord('s'):\n",
    "    cv.imwrite('./resources/001.jpg', img)"
   ]
  }
 ],
 "metadata": {
  "kernelspec": {
   "display_name": "Python 3",
   "language": "python",
   "name": "python3"
  },
  "language_info": {
   "codemirror_mode": {
    "name": "ipython",
    "version": 3
   },
   "file_extension": ".py",
   "mimetype": "text/x-python",
   "name": "python",
   "nbconvert_exporter": "python",
   "pygments_lexer": "ipython3",
   "version": "3.7.5"
  }
 },
 "nbformat": 4,
 "nbformat_minor": 4
}
