{
 "cells": [
  {
   "cell_type": "code",
   "execution_count": 4,
   "metadata": {},
   "outputs": [],
   "source": [
    "import sys\n",
    "import cv2 as cv\n",
    "\n",
    "img1 = cv.imread('./resources/2.jpg')\n",
    "img2 = cv.imread('./resources/3.jpg')\n",
    "\n",
    "img1 -= 10\n",
    "\n",
    "cv.imshow('show', img2)\n",
    "\n",
    "k = cv.waitKey(0)\n",
    "\n",
    "if k == ord('s'):\n",
    "    cv.imwrite('./resources/test.jgp', img1)\n",
    "    "
   ]
  }
 ],
 "metadata": {
  "kernelspec": {
   "display_name": "Python 3",
   "language": "python",
   "name": "python3"
  },
  "language_info": {
   "codemirror_mode": {
    "name": "ipython",
    "version": 3
   },
   "file_extension": ".py",
   "mimetype": "text/x-python",
   "name": "python",
   "nbconvert_exporter": "python",
   "pygments_lexer": "ipython3",
   "version": "3.7.5"
  }
 },
 "nbformat": 4,
 "nbformat_minor": 4
}
